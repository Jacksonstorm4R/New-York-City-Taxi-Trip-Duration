{
 "cells": [
  {
   "cell_type": "code",
   "execution_count": 1,
   "metadata": {},
   "outputs": [],
   "source": [
    "import numpy as np\n",
    "import pandas as pd\n",
    "import xgboost as xgb\n",
    "\n",
    "from sklearn.decomposition import PCA\n",
    "from sklearn.tree import DecisionTreeRegressor\n",
    "from sklearn.ensemble import RandomForestRegressor\n",
    "from sklearn.model_selection import train_test_split\n",
    "\n",
    "%matplotlib inline\n",
    "seed_set = 311  # Just my BD\n",
    "np.random.seed(seed_set)\n",
    "\n",
    "# Plotting libs\n",
    "import seaborn as sns\n",
    "import matplotlib.pyplot as plt\n",
    "plt.rcParams['figure.figsize'] = [16, 10]\n",
    "\n",
    "from IPython.core.interactiveshell import InteractiveShell\n",
    "InteractiveShell.ast_node_interactivity = \"all\""
   ]
  },
  {
   "cell_type": "code",
   "execution_count": 2,
   "metadata": {
    "collapsed": true
   },
   "outputs": [],
   "source": [
    "AVG_EARTH_RADIUS = 6371  # in km\n",
    "\n",
    "\n",
    "def haversine(point1, point2, miles=False):\n",
    "    \"\"\" Calculate the great-circle distance between two points on the Earth surface.\n",
    "    :input: two 2-tuples, containing the latitude and longitude of each point\n",
    "    in decimal degrees.\n",
    "    Example: haversine((45.7597, 4.8422), (48.8567, 2.3508))\n",
    "    :output: Returns the distance bewteen the two points.\n",
    "    The default unit is kilometers. Miles can be returned\n",
    "    if the ``miles`` parameter is set to True.\n",
    "    \"\"\"\n",
    "\n",
    "    # Unpack latitude/longitude\n",
    "    lat1, lng1 = point1\n",
    "    lat2, lng2 = point2\n",
    "\n",
    "    # Convert all latitudes/longitudes from decimal degrees to radians\n",
    "    lat1, lng1, lat2, lng2 = map(np.radians, (lat1, lng1, lat2, lng2))\n",
    "\n",
    "    # Calculate haversine\n",
    "    lat, lng= lat2 - lat1, lng2 - lng1\n",
    "    d = np.sin(lat * 0.5) ** 2 + np.cos(lat1) * np.cos(lat2) * np.sin(lng * 0.5) ** 2\n",
    "    h = 2 * AVG_EARTH_RADIUS * np.arcsin(np.sqrt(d))\n",
    "    return h * 0.621371 if miles else h # in m/km\n",
    "\n",
    "\n",
    "def dummy_manhattan_distance(point1, point2):\n",
    "    lat1, lng1 = point1\n",
    "    lat2, lng2 = point2\n",
    "    a = haversine((lat1, lng1), (lat1, lng2))\n",
    "    b = haversine((lat1, lng1), (lat2, lng1))\n",
    "\n",
    "    return haversine((lat1, lng1), (lat1, lng2)) + haversine((lat1, lng1), (lat2, lng1))\n",
    "\n",
    "\n",
    "def bearing_array(lat1, lng1, lat2, lng2):\n",
    "    AVG_EARTH_RADIUS = 6371  # in km\n",
    "    lng_delta_rad = np.radians(lng2 - lng1)\n",
    "    (lat1, lng1, lat2, lng2) = map(np.radians, (lat1, lng1, lat2, lng2))\n",
    "    y = np.sin(lng_delta_rad) * np.cos(lat2)\n",
    "    x = np.cos(lat1) * np.sin(lat2) - np.sin(lat1) * np.cos(lat2) * np.cos(lng_delta_rad)\n",
    "    \n",
    "    return np.degrees(np.arctan2(y, x))\n"
   ]
  },
  {
   "cell_type": "code",
   "execution_count": 3,
   "metadata": {},
   "outputs": [],
   "source": [
    "train = pd.read_csv('data/train.csv')\n",
    "test = pd.read_csv('data/test.csv')"
   ]
  },
  {
   "cell_type": "code",
   "execution_count": 4,
   "metadata": {},
   "outputs": [
    {
     "data": {
      "text/html": [
       "<div>\n",
       "<style>\n",
       "    .dataframe thead tr:only-child th {\n",
       "        text-align: right;\n",
       "    }\n",
       "\n",
       "    .dataframe thead th {\n",
       "        text-align: left;\n",
       "    }\n",
       "\n",
       "    .dataframe tbody tr th {\n",
       "        vertical-align: top;\n",
       "    }\n",
       "</style>\n",
       "<table border=\"1\" class=\"dataframe\">\n",
       "  <thead>\n",
       "    <tr style=\"text-align: right;\">\n",
       "      <th></th>\n",
       "      <th>id</th>\n",
       "      <th>vendor_id</th>\n",
       "      <th>pickup_datetime</th>\n",
       "      <th>dropoff_datetime</th>\n",
       "      <th>passenger_count</th>\n",
       "      <th>pickup_longitude</th>\n",
       "      <th>pickup_latitude</th>\n",
       "      <th>dropoff_longitude</th>\n",
       "      <th>dropoff_latitude</th>\n",
       "      <th>store_and_fwd_flag</th>\n",
       "      <th>trip_duration</th>\n",
       "    </tr>\n",
       "  </thead>\n",
       "  <tbody>\n",
       "    <tr>\n",
       "      <th>0</th>\n",
       "      <td>id2875421</td>\n",
       "      <td>2</td>\n",
       "      <td>2016-03-14 17:24:55</td>\n",
       "      <td>2016-03-14 17:32:30</td>\n",
       "      <td>1</td>\n",
       "      <td>-73.982155</td>\n",
       "      <td>40.767937</td>\n",
       "      <td>-73.964630</td>\n",
       "      <td>40.765602</td>\n",
       "      <td>N</td>\n",
       "      <td>455</td>\n",
       "    </tr>\n",
       "    <tr>\n",
       "      <th>1</th>\n",
       "      <td>id2377394</td>\n",
       "      <td>1</td>\n",
       "      <td>2016-06-12 00:43:35</td>\n",
       "      <td>2016-06-12 00:54:38</td>\n",
       "      <td>1</td>\n",
       "      <td>-73.980415</td>\n",
       "      <td>40.738564</td>\n",
       "      <td>-73.999481</td>\n",
       "      <td>40.731152</td>\n",
       "      <td>N</td>\n",
       "      <td>663</td>\n",
       "    </tr>\n",
       "  </tbody>\n",
       "</table>\n",
       "</div>"
      ],
      "text/plain": [
       "          id  vendor_id      pickup_datetime     dropoff_datetime  \\\n",
       "0  id2875421          2  2016-03-14 17:24:55  2016-03-14 17:32:30   \n",
       "1  id2377394          1  2016-06-12 00:43:35  2016-06-12 00:54:38   \n",
       "\n",
       "   passenger_count  pickup_longitude  pickup_latitude  dropoff_longitude  \\\n",
       "0                1        -73.982155        40.767937         -73.964630   \n",
       "1                1        -73.980415        40.738564         -73.999481   \n",
       "\n",
       "   dropoff_latitude store_and_fwd_flag  trip_duration  \n",
       "0         40.765602                  N            455  \n",
       "1         40.731152                  N            663  "
      ]
     },
     "execution_count": 4,
     "metadata": {},
     "output_type": "execute_result"
    }
   ],
   "source": [
    "train.head(2)"
   ]
  },
  {
   "cell_type": "code",
   "execution_count": 5,
   "metadata": {},
   "outputs": [
    {
     "data": {
      "text/html": [
       "<div>\n",
       "<style>\n",
       "    .dataframe thead tr:only-child th {\n",
       "        text-align: right;\n",
       "    }\n",
       "\n",
       "    .dataframe thead th {\n",
       "        text-align: left;\n",
       "    }\n",
       "\n",
       "    .dataframe tbody tr th {\n",
       "        vertical-align: top;\n",
       "    }\n",
       "</style>\n",
       "<table border=\"1\" class=\"dataframe\">\n",
       "  <thead>\n",
       "    <tr style=\"text-align: right;\">\n",
       "      <th></th>\n",
       "      <th>id</th>\n",
       "      <th>vendor_id</th>\n",
       "      <th>pickup_datetime</th>\n",
       "      <th>passenger_count</th>\n",
       "      <th>pickup_longitude</th>\n",
       "      <th>pickup_latitude</th>\n",
       "      <th>dropoff_longitude</th>\n",
       "      <th>dropoff_latitude</th>\n",
       "      <th>store_and_fwd_flag</th>\n",
       "    </tr>\n",
       "  </thead>\n",
       "  <tbody>\n",
       "    <tr>\n",
       "      <th>0</th>\n",
       "      <td>id3004672</td>\n",
       "      <td>1</td>\n",
       "      <td>2016-06-30 23:59:58</td>\n",
       "      <td>1</td>\n",
       "      <td>-73.988129</td>\n",
       "      <td>40.732029</td>\n",
       "      <td>-73.990173</td>\n",
       "      <td>40.756680</td>\n",
       "      <td>N</td>\n",
       "    </tr>\n",
       "    <tr>\n",
       "      <th>1</th>\n",
       "      <td>id3505355</td>\n",
       "      <td>1</td>\n",
       "      <td>2016-06-30 23:59:53</td>\n",
       "      <td>1</td>\n",
       "      <td>-73.964203</td>\n",
       "      <td>40.679993</td>\n",
       "      <td>-73.959808</td>\n",
       "      <td>40.655403</td>\n",
       "      <td>N</td>\n",
       "    </tr>\n",
       "  </tbody>\n",
       "</table>\n",
       "</div>"
      ],
      "text/plain": [
       "          id  vendor_id      pickup_datetime  passenger_count  \\\n",
       "0  id3004672          1  2016-06-30 23:59:58                1   \n",
       "1  id3505355          1  2016-06-30 23:59:53                1   \n",
       "\n",
       "   pickup_longitude  pickup_latitude  dropoff_longitude  dropoff_latitude  \\\n",
       "0        -73.988129        40.732029         -73.990173         40.756680   \n",
       "1        -73.964203        40.679993         -73.959808         40.655403   \n",
       "\n",
       "  store_and_fwd_flag  \n",
       "0                  N  \n",
       "1                  N  "
      ]
     },
     "execution_count": 5,
     "metadata": {},
     "output_type": "execute_result"
    }
   ],
   "source": [
    "test.head(2)"
   ]
  },
  {
   "cell_type": "markdown",
   "metadata": {},
   "source": [
    "## Original Features\n",
    "\n",
    "- id - a unique identifier for each trip\n",
    "- vendor_id - a code indicating the provider associated with the trip record\n",
    "- pickup_datetime - date and time when the meter was engaged\n",
    "- dropoff_datetime - date and time when the meter was disengaged\n",
    "- passenger_count - the number of passengers in the vehicle (driver entered value)\n",
    "- pickup_longitude - the longitude where the meter was engaged\n",
    "- pickup_latitude - the latitude where the meter was engaged\n",
    "- dropoff_longitude - the longitude where the meter was disengaged\n",
    "- dropoff_latitude - the latitude where the meter was disengaged\n",
    "- store_and_fwd_flag - This flag indicates whether the trip record was held in vehicle memory before sending to the vendor because the vehicle did not have a connection to the server - Y=store and forward; N=not a store and forward trip\n",
    "- trip_duration - duration of the trip in seconds\n",
    "\n",
    "## Build Features"
   ]
  },
  {
   "cell_type": "code",
   "execution_count": 6,
   "metadata": {},
   "outputs": [],
   "source": [
    "# Build features based on longitutde/latitude\n",
    "train['distance_haversine'] = haversine(\n",
    "    (train['pickup_latitude'].values, train['pickup_longitude'].values),\n",
    "    (train['dropoff_latitude'].values, train['dropoff_longitude'].values)\n",
    ")\n",
    "train['distance_dummy_manhattan'] = dummy_manhattan_distance(\n",
    "    (train['pickup_latitude'].values, train['pickup_longitude'].values),\n",
    "    (train['dropoff_latitude'].values, train['dropoff_longitude'].values)\n",
    ")\n",
    "train['direction'] = bearing_array(train['pickup_latitude'].values, train['pickup_longitude'].values, train['dropoff_latitude'].values, train['dropoff_longitude'].values)\n",
    "train['center_latitude'] = (train['pickup_latitude'].values + train['dropoff_latitude'].values) / 2\n",
    "train['center_longitude'] = (train['pickup_longitude'].values + train['dropoff_longitude'].values) / 2\n",
    "\n",
    "test['distance_haversine'] = haversine(\n",
    "    (test['pickup_latitude'].values, test['pickup_longitude'].values),\n",
    "    (test['dropoff_latitude'].values, test['dropoff_longitude'].values)\n",
    ")\n",
    "\n",
    "test['distance_dummy_manhattan'] = dummy_manhattan_distance(\n",
    "    (test['pickup_latitude'].values, test['pickup_longitude'].values),\n",
    "    (test['dropoff_latitude'].values, test['dropoff_longitude'].values)\n",
    ")\n",
    "test['direction'] = bearing_array(test['pickup_latitude'].values, test['pickup_longitude'].values, test['dropoff_latitude'].values, test['dropoff_longitude'].values)\n",
    "test['center_latitude'] = (test['pickup_latitude'].values + test['dropoff_latitude'].values) / 2\n",
    "test['center_longitude'] = (test['pickup_longitude'].values + test['dropoff_longitude'].values) / 2"
   ]
  },
  {
   "cell_type": "code",
   "execution_count": 7,
   "metadata": {
    "collapsed": true
   },
   "outputs": [],
   "source": [
    "train['pickup_datetime'] = pd.to_datetime(train['pickup_datetime'])\n",
    "test['pickup_datetime'] = pd.to_datetime(train['pickup_datetime'])"
   ]
  },
  {
   "cell_type": "code",
   "execution_count": 8,
   "metadata": {
    "collapsed": true
   },
   "outputs": [],
   "source": [
    "train['pickup_date'] = train['pickup_datetime'].dt.date\n",
    "train['pickup_weekday'] = train['pickup_datetime'].dt.weekday\n",
    "train['pickup_day'] = train['pickup_datetime'].dt.day\n",
    "train['pickup_month'] = train['pickup_datetime'].dt.month\n",
    "train['pickup_hour'] = train['pickup_datetime'].dt.hour\n",
    "train['pickup_minute'] = train['pickup_datetime'].dt.minute\n",
    "train['pickup_am'] = train['pickup_hour'] < 12\n",
    "\n",
    "test['pickup_date'] = test['pickup_datetime'].dt.date\n",
    "test['pickup_weekday'] = test['pickup_datetime'].dt.weekday\n",
    "test['pickup_day'] = test['pickup_datetime'].dt.day\n",
    "test['pickup_month'] = test['pickup_datetime'].dt.month\n",
    "test['pickup_hour'] = test['pickup_datetime'].dt.hour\n",
    "test['pickup_minute'] = test['pickup_datetime'].dt.minute\n",
    "test['pickup_am'] = test['pickup_hour'] < 12\n",
    "\n",
    "# These time periods are based on visuls below\n",
    "train['night_trip'] = [True if x < 7 else False for x in train['pickup_hour']]\n",
    "train['rush_hour'] = [True if 9 < x < 20 else False for x in train['pickup_hour']]\n",
    "train['weekday'] = [True if x < 5 else False for x in train['pickup_weekday']]\n",
    "test['night_trip'] = [True if x < 7 else False for x in test['pickup_hour']]\n",
    "test['rush_hour'] = [True if 9 < x < 20 else False for x in test['pickup_hour']]\n",
    "test['weekday'] = [True if x < 5 else False for x in test['pickup_weekday']]\n",
    "\n",
    "log_trip_duration = np.log(train['trip_duration'].values + 1)\n",
    "train['log_trip_duration'] = log_trip_duration"
   ]
  },
  {
   "cell_type": "markdown",
   "metadata": {},
   "source": [
    "## Visuals"
   ]
  },
  {
   "cell_type": "code",
   "execution_count": 9,
   "metadata": {},
   "outputs": [
    {
     "data": {
      "text/plain": [
       "(array([  3.30000000e+01,   0.00000000e+00,   1.77000000e+02,\n",
       "          0.00000000e+00,   3.18000000e+02,   0.00000000e+00,\n",
       "          3.17000000e+02,   2.84000000e+02,   1.92000000e+02,\n",
       "          2.18000000e+02,   2.06000000e+02,   4.21000000e+02,\n",
       "          1.64000000e+02,   3.14000000e+02,   4.50000000e+02,\n",
       "          2.77000000e+02,   5.24000000e+02,   4.02000000e+02,\n",
       "          4.85000000e+02,   6.11000000e+02,   5.53000000e+02,\n",
       "          8.32000000e+02,   9.16000000e+02,   1.43000000e+03,\n",
       "          1.69300000e+03,   2.84800000e+03,   4.24500000e+03,\n",
       "          6.00800000e+03,   8.77800000e+03,   1.29630000e+04,\n",
       "          1.89590000e+04,   2.64870000e+04,   3.55110000e+04,\n",
       "          4.50130000e+04,   5.88140000e+04,   6.89740000e+04,\n",
       "          8.24950000e+04,   9.34350000e+04,   1.03080000e+05,\n",
       "          1.11102000e+05,   1.12725000e+05,   1.12528000e+05,\n",
       "          1.07650000e+05,   9.74220000e+04,   8.52740000e+04,\n",
       "          7.07090000e+04,   5.56630000e+04,   4.15460000e+04,\n",
       "          2.92120000e+04,   2.03730000e+04,   1.39830000e+04,\n",
       "          8.88500000e+03,   5.48400000e+03,   3.14100000e+03,\n",
       "          1.47600000e+03,   5.90000000e+02,   2.03000000e+02,\n",
       "          8.50000000e+01,   3.80000000e+01,   2.00000000e+01,\n",
       "          2.00000000e+01,   1.10000000e+01,   4.00000000e+00,\n",
       "          5.00000000e+00,   1.10000000e+01,   1.20000000e+01,\n",
       "          1.70000000e+01,   1.50000000e+01,   1.70000000e+01,\n",
       "          1.10000000e+01,   1.20000000e+01,   2.30000000e+01,\n",
       "          1.80000000e+01,   2.06000000e+02,   1.72200000e+03,\n",
       "          0.00000000e+00,   0.00000000e+00,   0.00000000e+00,\n",
       "          0.00000000e+00,   0.00000000e+00,   0.00000000e+00,\n",
       "          0.00000000e+00,   0.00000000e+00,   0.00000000e+00,\n",
       "          0.00000000e+00,   0.00000000e+00,   0.00000000e+00,\n",
       "          0.00000000e+00,   0.00000000e+00,   0.00000000e+00,\n",
       "          0.00000000e+00,   0.00000000e+00,   0.00000000e+00,\n",
       "          0.00000000e+00,   0.00000000e+00,   1.00000000e+00,\n",
       "          2.00000000e+00,   0.00000000e+00,   0.00000000e+00,\n",
       "          1.00000000e+00]),\n",
       " array([  0.69314718,   0.83697326,   0.98079933,   1.12462541,\n",
       "          1.26845149,   1.41227757,   1.55610364,   1.69992972,\n",
       "          1.8437558 ,   1.98758188,   2.13140795,   2.27523403,\n",
       "          2.41906011,   2.56288618,   2.70671226,   2.85053834,\n",
       "          2.99436442,   3.13819049,   3.28201657,   3.42584265,\n",
       "          3.56966872,   3.7134948 ,   3.85732088,   4.00114696,\n",
       "          4.14497303,   4.28879911,   4.43262519,   4.57645126,\n",
       "          4.72027734,   4.86410342,   5.0079295 ,   5.15175557,\n",
       "          5.29558165,   5.43940773,   5.58323381,   5.72705988,\n",
       "          5.87088596,   6.01471204,   6.15853811,   6.30236419,\n",
       "          6.44619027,   6.59001635,   6.73384242,   6.8776685 ,\n",
       "          7.02149458,   7.16532065,   7.30914673,   7.45297281,\n",
       "          7.59679889,   7.74062496,   7.88445104,   8.02827712,\n",
       "          8.17210319,   8.31592927,   8.45975535,   8.60358143,\n",
       "          8.7474075 ,   8.89123358,   9.03505966,   9.17888573,\n",
       "          9.32271181,   9.46653789,   9.61036397,   9.75419004,\n",
       "          9.89801612,  10.0418422 ,  10.18566828,  10.32949435,\n",
       "         10.47332043,  10.61714651,  10.76097258,  10.90479866,\n",
       "         11.04862474,  11.19245082,  11.33627689,  11.48010297,\n",
       "         11.62392905,  11.76775512,  11.9115812 ,  12.05540728,\n",
       "         12.19923336,  12.34305943,  12.48688551,  12.63071159,\n",
       "         12.77453766,  12.91836374,  13.06218982,  13.2060159 ,\n",
       "         13.34984197,  13.49366805,  13.63749413,  13.7813202 ,\n",
       "         13.92514628,  14.06897236,  14.21279844,  14.35662451,\n",
       "         14.50045059,  14.64427667,  14.78810275,  14.93192882,  15.0757549 ]),\n",
       " <a list of 100 Patch objects>)"
      ]
     },
     "execution_count": 9,
     "metadata": {},
     "output_type": "execute_result"
    },
    {
     "data": {
      "text/plain": [
       "<matplotlib.text.Text at 0x24985fdbac8>"
      ]
     },
     "execution_count": 9,
     "metadata": {},
     "output_type": "execute_result"
    },
    {
     "data": {
      "text/plain": [
       "<matplotlib.text.Text at 0x249aa3221d0>"
      ]
     },
     "execution_count": 9,
     "metadata": {},
     "output_type": "execute_result"
    },
    {
     "data": {
      "image/png": "[encoded data removed]",
      "text/plain": [
       "<matplotlib.figure.Figure at 0x249e87d16a0>"
      ]
     },
     "metadata": {},
     "output_type": "display_data"
    }
   ],
   "source": [
    "plt.hist(train['log_trip_duration'].values, bins=100)\n",
    "plt.xlabel('log(trip_duration)')\n",
    "plt.ylabel('number of train records')\n",
    "plt.show()"
   ]
  },
  {
   "cell_type": "code",
   "execution_count": 10,
   "metadata": {},
   "outputs": [
    {
     "data": {
      "text/plain": [
       "[<matplotlib.lines.Line2D at 0x24985fc7518>]"
      ]
     },
     "execution_count": 10,
     "metadata": {},
     "output_type": "execute_result"
    },
    {
     "data": {
      "text/plain": [
       "[<matplotlib.lines.Line2D at 0x249864cbf28>]"
      ]
     },
     "execution_count": 10,
     "metadata": {},
     "output_type": "execute_result"
    },
    {
     "data": {
      "text/plain": [
       "<matplotlib.text.Text at 0x2499b1daba8>"
      ]
     },
     "execution_count": 10,
     "metadata": {},
     "output_type": "execute_result"
    },
    {
     "data": {
      "text/plain": [
       "<matplotlib.legend.Legend at 0x249864cbf98>"
      ]
     },
     "execution_count": 10,
     "metadata": {},
     "output_type": "execute_result"
    },
    {
     "data": {
      "text/plain": [
       "<matplotlib.text.Text at 0x24988323b70>"
      ]
     },
     "execution_count": 10,
     "metadata": {},
     "output_type": "execute_result"
    },
    {
     "data": {
      "image/png": "[encoded data removed]",
      "text/plain": [
       "<matplotlib.figure.Figure at 0x249e87d19e8>"
      ]
     },
     "metadata": {},
     "output_type": "display_data"
    }
   ],
   "source": [
    "plt.plot(train.groupby('pickup_date').count()[['id']], 'o-', label='train')\n",
    "plt.plot(test.groupby('pickup_date').count()[['id']], 'o-', label='test')\n",
    "plt.title('Train and test period complete overlap.')\n",
    "plt.legend(loc=0)\n",
    "plt.ylabel('number of records')\n",
    "plt.show()"
   ]
  },
  {
   "cell_type": "code",
   "execution_count": 11,
   "metadata": {},
   "outputs": [
    {
     "data": {
      "text/plain": [
       "[<matplotlib.lines.Line2D at 0x2498606cf60>]"
      ]
     },
     "execution_count": 11,
     "metadata": {},
     "output_type": "execute_result"
    },
    {
     "data": {
      "text/plain": [
       "[<matplotlib.lines.Line2D at 0x24986045550>]"
      ]
     },
     "execution_count": 11,
     "metadata": {},
     "output_type": "execute_result"
    },
    {
     "data": {
      "text/plain": [
       "<matplotlib.text.Text at 0x24986036c50>"
      ]
     },
     "execution_count": 11,
     "metadata": {},
     "output_type": "execute_result"
    },
    {
     "data": {
      "text/plain": [
       "<matplotlib.legend.Legend at 0x24986075518>"
      ]
     },
     "execution_count": 11,
     "metadata": {},
     "output_type": "execute_result"
    },
    {
     "data": {
      "text/plain": [
       "<matplotlib.text.Text at 0x249863500f0>"
      ]
     },
     "execution_count": 11,
     "metadata": {},
     "output_type": "execute_result"
    },
    {
     "data": {
      "text/plain": [
       "<matplotlib.text.Text at 0x2499b176f98>"
      ]
     },
     "execution_count": 11,
     "metadata": {},
     "output_type": "execute_result"
    },
    {
     "data": {
      "text/plain": [
       "<matplotlib.text.Text at 0x24986025f28>"
      ]
     },
     "execution_count": 11,
     "metadata": {},
     "output_type": "execute_result"
    },
    {
     "data": {
      "text/plain": [
       "<matplotlib.legend.Legend at 0x24986075588>"
      ]
     },
     "execution_count": 11,
     "metadata": {},
     "output_type": "execute_result"
    },
    {
     "data": {
      "text/plain": [
       "(40.5, 41)"
      ]
     },
     "execution_count": 11,
     "metadata": {},
     "output_type": "execute_result"
    },
    {
     "data": {
      "text/plain": [
       "(-74.5, -73.5)"
      ]
     },
     "execution_count": 11,
     "metadata": {},
     "output_type": "execute_result"
    },
    {
     "data": {
      "image/png": "[encoded data removed]",
      "text/plain": [
       "<matplotlib.figure.Figure at 0x24988337e80>"
      ]
     },
     "metadata": {},
     "output_type": "display_data"
    }
   ],
   "source": [
    "N = 100000\n",
    "fig, ax = plt.subplots(ncols=2, sharex=True, sharey=True)\n",
    "ax[0].plot(train['pickup_longitude'].values[:N], train['pickup_latitude'].values[:N], 'b.',\n",
    "           label='train', alpha=0.1)\n",
    "ax[1].plot(test['pickup_longitude'].values[:N], test['pickup_latitude'].values[:N], 'g.',\n",
    "           label='test', alpha=0.1)\n",
    "fig.suptitle('Train and test area complete overlap.')\n",
    "ax[0].legend(loc=0)\n",
    "ax[0].set_ylabel('latitude')\n",
    "ax[0].set_xlabel('longitude')\n",
    "ax[1].set_xlabel('longitude')\n",
    "ax[1].legend(loc=0)\n",
    "plt.ylim([40.5, 41])\n",
    "plt.xlim([-74.5, -73.5])\n",
    "plt.show()"
   ]
  },
  {
   "cell_type": "code",
   "execution_count": 12,
   "metadata": {},
   "outputs": [
    {
     "data": {
      "text/plain": [
       "(4167556, 2)"
      ]
     },
     "execution_count": 12,
     "metadata": {},
     "output_type": "execute_result"
    }
   ],
   "source": [
    "full = pd.concat([train, test])\n",
    "coords = np.vstack((full[['pickup_latitude', 'pickup_longitude']], \n",
    "                   full[['dropoff_latitude', 'dropoff_longitude']]))\n",
    "coords.shape"
   ]
  },
  {
   "cell_type": "code",
   "execution_count": 13,
   "metadata": {
    "collapsed": true
   },
   "outputs": [],
   "source": [
    "pca = PCA().fit(coords)"
   ]
  },
  {
   "cell_type": "code",
   "execution_count": 14,
   "metadata": {
    "collapsed": true
   },
   "outputs": [],
   "source": [
    "train['pickup_pca0'] = pca.transform(train[['pickup_latitude', 'pickup_longitude']])[:, 0]\n",
    "train['pickup_pca1'] = pca.transform(train[['pickup_latitude', 'pickup_longitude']])[:, 1]\n",
    "train['dropoff_pca0'] = pca.transform(train[['dropoff_latitude', 'dropoff_longitude']])[:, 0]\n",
    "train['dropoff_pca1'] = pca.transform(train[['dropoff_latitude', 'dropoff_longitude']])[:, 1]\n",
    "train['pca_manhattan'] = np.abs(train['dropoff_pca1'] - train['pickup_pca1']) + np.abs(train['dropoff_pca0'] - train['pickup_pca0'])"
   ]
  },
  {
   "cell_type": "code",
   "execution_count": 15,
   "metadata": {
    "collapsed": true
   },
   "outputs": [],
   "source": [
    "test['pickup_pca0'] = pca.transform(test[['pickup_latitude', 'pickup_longitude']])[:, 0]\n",
    "test['pickup_pca1'] = pca.transform(test[['pickup_latitude', 'pickup_longitude']])[:, 1]\n",
    "test['dropoff_pca0'] = pca.transform(test[['dropoff_latitude', 'dropoff_longitude']])[:, 0]\n",
    "test['dropoff_pca1'] = pca.transform(test[['dropoff_latitude', 'dropoff_longitude']])[:, 1]\n",
    "test['pca_manhattan'] = np.abs(test['dropoff_pca1'] - test['pickup_pca1']) + np.abs(test['dropoff_pca0'] - test['pickup_pca0'])"
   ]
  },
  {
   "cell_type": "code",
   "execution_count": 16,
   "metadata": {},
   "outputs": [
    {
     "data": {
      "text/plain": [
       "Index(['id', 'vendor_id', 'pickup_datetime', 'passenger_count',\n",
       "       'pickup_longitude', 'pickup_latitude', 'dropoff_longitude',\n",
       "       'dropoff_latitude', 'store_and_fwd_flag', 'distance_haversine',\n",
       "       'distance_dummy_manhattan', 'direction', 'center_latitude',\n",
       "       'center_longitude', 'pickup_date', 'pickup_weekday', 'pickup_day',\n",
       "       'pickup_month', 'pickup_hour', 'pickup_minute', 'pickup_am',\n",
       "       'night_trip', 'rush_hour', 'weekday', 'pickup_pca0', 'pickup_pca1',\n",
       "       'dropoff_pca0', 'dropoff_pca1', 'pca_manhattan'],\n",
       "      dtype='object')"
      ]
     },
     "execution_count": 16,
     "metadata": {},
     "output_type": "execute_result"
    }
   ],
   "source": [
    "test.columns"
   ]
  },
  {
   "cell_type": "code",
   "execution_count": 17,
   "metadata": {},
   "outputs": [
    {
     "data": {
      "text/plain": [
       "Index(['id', 'vendor_id', 'pickup_datetime', 'dropoff_datetime',\n",
       "       'passenger_count', 'pickup_longitude', 'pickup_latitude',\n",
       "       'dropoff_longitude', 'dropoff_latitude', 'store_and_fwd_flag',\n",
       "       'trip_duration', 'distance_haversine', 'distance_dummy_manhattan',\n",
       "       'direction', 'center_latitude', 'center_longitude', 'pickup_date',\n",
       "       'pickup_weekday', 'pickup_day', 'pickup_month', 'pickup_hour',\n",
       "       'pickup_minute', 'pickup_am', 'night_trip', 'rush_hour', 'weekday',\n",
       "       'log_trip_duration', 'pickup_pca0', 'pickup_pca1', 'dropoff_pca0',\n",
       "       'dropoff_pca1', 'pca_manhattan'],\n",
       "      dtype='object')"
      ]
     },
     "execution_count": 17,
     "metadata": {},
     "output_type": "execute_result"
    }
   ],
   "source": [
    "train.columns"
   ]
  },
  {
   "cell_type": "code",
   "execution_count": 18,
   "metadata": {},
   "outputs": [
    {
     "data": {
      "text/plain": [
       "((1458644, 22), (625134, 22))"
      ]
     },
     "execution_count": 18,
     "metadata": {},
     "output_type": "execute_result"
    }
   ],
   "source": [
    "DO_NOT_USE_FOR_TRAINING = [\n",
    "    'id', 'pickup_datetime', 'dropoff_datetime', 'pickup_longitude', 'pickup_latitude',\n",
    "    'dropoff_longitude','dropoff_latitude', 'trip_duration', 'pickup_date', 'log_trip_duration'\n",
    "]\n",
    "\n",
    "new_df = train.drop([col for col in DO_NOT_USE_FOR_TRAINING if col in train], axis=1)\n",
    "new_df_test = test.drop([col for col in DO_NOT_USE_FOR_TRAINING if col in test], axis=1)\n",
    "\n",
    "new_df['store_and_fwd_flag'] = 1 *  new_df['store_and_fwd_flag'] == True\n",
    "new_df_test['store_and_fwd_flag'] = 1 *  new_df['store_and_fwd_flag'] == True\n",
    "new_df.shape, new_df_test.shape"
   ]
  },
  {
   "cell_type": "code",
   "execution_count": 19,
   "metadata": {},
   "outputs": [
    {
     "data": {
      "text/plain": [
       "array([ True,  True,  True,  True,  True,  True,  True,  True,  True,\n",
       "        True,  True,  True,  True,  True,  True,  True,  True,  True,\n",
       "        True,  True,  True,  True], dtype=bool)"
      ]
     },
     "execution_count": 19,
     "metadata": {},
     "output_type": "execute_result"
    }
   ],
   "source": [
    "new_df.columns == new_df_test.columns"
   ]
  },
  {
   "cell_type": "code",
   "execution_count": 20,
   "metadata": {},
   "outputs": [
    {
     "data": {
      "text/plain": [
       "(1458644, 22)"
      ]
     },
     "execution_count": 20,
     "metadata": {},
     "output_type": "execute_result"
    }
   ],
   "source": [
    "# Use log to handle outliers\n",
    "y = np.log(train['trip_duration'].values)\n",
    "train_attr = np.array(new_df)\n",
    "train_attr.shape"
   ]
  },
  {
   "cell_type": "markdown",
   "metadata": {},
   "source": [
    "## Train"
   ]
  },
  {
   "cell_type": "code",
   "execution_count": 21,
   "metadata": {},
   "outputs": [],
   "source": [
    "train_x, val_x, train_y, val_y = train_test_split(train_attr, y, test_size=0.2)"
   ]
  },
  {
   "cell_type": "code",
   "execution_count": 22,
   "metadata": {
    "collapsed": true
   },
   "outputs": [],
   "source": [
    "# Save some memory, if you have >=6G, just comment this out\n",
    "del train, train_attr"
   ]
  },
  {
   "cell_type": "code",
   "execution_count": 23,
   "metadata": {},
   "outputs": [],
   "source": [
    "dtrain = xgb.DMatrix(train_x, label=train_y)\n",
    "dvalid = xgb.DMatrix(val_x, label=val_y)\n",
    "dtest = xgb.DMatrix(new_df_test.values)\n",
    "watchlist = [(dtrain, 'train'), (dvalid, 'valid')]"
   ]
  },
  {
   "cell_type": "code",
   "execution_count": 24,
   "metadata": {},
   "outputs": [
    {
     "name": "stdout",
     "output_type": "stream",
     "text": [
      "[0]\ttrain-rmse:5.41956\tvalid-rmse:5.42076\n",
      "Multiple eval metrics have been passed: 'valid-rmse' will be used for early stopping.\n",
      "\n",
      "Will train until valid-rmse hasn't improved in 50 rounds.\n",
      "[20]\ttrain-rmse:0.769139\tvalid-rmse:0.776458\n",
      "[40]\ttrain-rmse:0.378776\tvalid-rmse:0.402395\n",
      "[60]\ttrain-rmse:0.360651\tvalid-rmse:0.390072\n",
      "[80]\ttrain-rmse:0.355563\tvalid-rmse:0.388532\n",
      "[100]\ttrain-rmse:0.35227\tvalid-rmse:0.387532\n",
      "[120]\ttrain-rmse:0.350062\tvalid-rmse:0.387059\n",
      "[140]\ttrain-rmse:0.348457\tvalid-rmse:0.386915\n",
      "[160]\ttrain-rmse:0.346732\tvalid-rmse:0.386837\n",
      "[180]\ttrain-rmse:0.345286\tvalid-rmse:0.386871\n",
      "[200]\ttrain-rmse:0.343924\tvalid-rmse:0.386959\n",
      "[220]\ttrain-rmse:0.342491\tvalid-rmse:0.386809\n",
      "[240]\ttrain-rmse:0.34074\tvalid-rmse:0.386683\n",
      "[260]\ttrain-rmse:0.339667\tvalid-rmse:0.38669\n",
      "[280]\ttrain-rmse:0.338676\tvalid-rmse:0.386594\n",
      "[300]\ttrain-rmse:0.337142\tvalid-rmse:0.386435\n",
      "[320]\ttrain-rmse:0.336001\tvalid-rmse:0.386499\n",
      "[340]\ttrain-rmse:0.334703\tvalid-rmse:0.38636\n",
      "[360]\ttrain-rmse:0.333655\tvalid-rmse:0.386417\n",
      "[380]\ttrain-rmse:0.3327\tvalid-rmse:0.386344\n",
      "[400]\ttrain-rmse:0.331728\tvalid-rmse:0.386343\n",
      "[420]\ttrain-rmse:0.330991\tvalid-rmse:0.386451\n",
      "Stopping. Best iteration:\n",
      "[388]\ttrain-rmse:0.332128\tvalid-rmse:0.386256\n",
      "\n"
     ]
    }
   ],
   "source": [
    "# Tune these params, see https://www.analyticsvidhya.com/blog/2016/03/complete-guide-parameter-tuning-xgboost-with-codes-python/\n",
    "xgb_pars = {'min_child_weight': 100, 'eta': 0.1, 'colsample_bytree': 0.7, 'max_depth': 15,\n",
    "            'subsample': 0.8, 'lambda': 1., 'nthread': -1, 'booster' : 'gbtree', 'silent': 1,\n",
    "            'eval_metric': 'rmse', 'objective': 'reg:linear'}\n",
    "\n",
    "model_xgb = xgb.train(xgb_pars, dtrain, 500, watchlist, early_stopping_rounds=50,\n",
    "                  maximize=False, verbose_eval=20)"
   ]
  },
  {
   "cell_type": "code",
   "execution_count": 25,
   "metadata": {},
   "outputs": [
    {
     "name": "stdout",
     "output_type": "stream",
     "text": [
      "XGB Modeling RMSLE 0.38626\n"
     ]
    }
   ],
   "source": [
    "print('XGB Modeling RMSLE %.5f' % model_xgb.best_score)"
   ]
  },
  {
   "cell_type": "code",
   "execution_count": 26,
   "metadata": {
    "collapsed": true
   },
   "outputs": [],
   "source": [
    "def rmse(y_true, y_pred):\n",
    "    return np.sqrt(np.mean(np.square(y_pred - y_true), axis=-1))"
   ]
  },
  {
   "cell_type": "code",
   "execution_count": 27,
   "metadata": {
    "collapsed": true
   },
   "outputs": [],
   "source": [
    "TREE_REGRESSORS = [\n",
    "    # These model are not tunned, default params in using\n",
    "    DecisionTreeRegressor(),\n",
    "    RandomForestRegressor()\n",
    "]\n",
    "\n",
    "models = []\n",
    "for regressor in TREE_REGRESSORS:\n",
    "    clf = regressor\n",
    "    clf = clf.fit(train_x, train_y)\n",
    "    models.append(clf)"
   ]
  },
  {
   "cell_type": "code",
   "execution_count": 28,
   "metadata": {},
   "outputs": [
    {
     "name": "stdout",
     "output_type": "stream",
     "text": [
      "With model: DecisionTreeRegressor(criterion='mse', max_depth=None, max_features=None,\n",
      "           max_leaf_nodes=None, min_impurity_split=1e-07,\n",
      "           min_samples_leaf=1, min_samples_split=2,\n",
      "           min_weight_fraction_leaf=0.0, presort=False, random_state=None,\n",
      "           splitter='best')\n",
      "Train RMSLE: 8.868034339242484e-06\n",
      "Val. RMSLE: 0.5767473693396291\n",
      "With model: RandomForestRegressor(bootstrap=True, criterion='mse', max_depth=None,\n",
      "           max_features='auto', max_leaf_nodes=None,\n",
      "           min_impurity_split=1e-07, min_samples_leaf=1,\n",
      "           min_samples_split=2, min_weight_fraction_leaf=0.0,\n",
      "           n_estimators=10, n_jobs=1, oob_score=False, random_state=None,\n",
      "           verbose=0, warm_start=False)\n",
      "Train RMSLE: 0.17765651719981626\n",
      "Val. RMSLE: 0.4203330971560295\n"
     ]
    }
   ],
   "source": [
    "for model in models:\n",
    "    # train_y is logged so rmse computes rmsle\n",
    "    train_rmsle = rmse(train_y, model.predict(train_x))\n",
    "    val_rmsle = rmse(val_y, model.predict(val_x))\n",
    "    print('With model: {}\\nTrain RMSLE: {}\\nVal. RMSLE: {}'.format(model, train_rmsle, val_rmsle))"
   ]
  },
  {
   "cell_type": "code",
   "execution_count": 29,
   "metadata": {},
   "outputs": [],
   "source": [
    "test_attr = np.array(new_df_test)\n",
    "model_rt, model_rf = models"
   ]
  },
  {
   "cell_type": "code",
   "execution_count": 30,
   "metadata": {},
   "outputs": [
    {
     "data": {
      "text/plain": [
       "array([ 1088.,   554.,   726., ...,  1213.,  2024.,  1997.])"
      ]
     },
     "execution_count": 30,
     "metadata": {},
     "output_type": "execute_result"
    }
   ],
   "source": [
    "pred_rt = model_rt.predict(test_attr)\n",
    "pred_rt = np.exp(pred_rt)\n",
    "pred_rt"
   ]
  },
  {
   "cell_type": "code",
   "execution_count": 31,
   "metadata": {
    "collapsed": true
   },
   "outputs": [],
   "source": [
    "submission = pd.concat([test['id'], pd.DataFrame(pred_rt, columns=['trip_duration'])], axis=1)\n",
    "submission.to_csv('submission-rt.csv',index=False)"
   ]
  },
  {
   "cell_type": "code",
   "execution_count": 32,
   "metadata": {},
   "outputs": [
    {
     "data": {
      "text/plain": [
       "array([ 1018.7525421 ,   618.19113917,   694.463357  , ...,  1818.55406717,\n",
       "        1728.48714294,  1522.32884487])"
      ]
     },
     "execution_count": 32,
     "metadata": {},
     "output_type": "execute_result"
    }
   ],
   "source": [
    "pred_rf = model_rf.predict(test_attr)\n",
    "pred_rf = np.exp(pred_rf)\n",
    "pred_rf"
   ]
  },
  {
   "cell_type": "code",
   "execution_count": 33,
   "metadata": {
    "collapsed": true
   },
   "outputs": [],
   "source": [
    "submission = pd.concat([test['id'], pd.DataFrame(pred_rf, columns=['trip_duration'])], axis=1)\n",
    "submission.to_csv('submission-rf.csv',index=False)"
   ]
  },
  {
   "cell_type": "code",
   "execution_count": 34,
   "metadata": {},
   "outputs": [
    {
     "name": "stdout",
     "output_type": "stream",
     "text": [
      "Test shape OK.\n"
     ]
    },
    {
     "data": {
      "text/plain": [
       "array([ 1142.12036133,   581.86590576,   605.13916016, ...,  2042.1295166 ,\n",
       "        1834.28588867,  1692.21728516], dtype=float32)"
      ]
     },
     "execution_count": 34,
     "metadata": {},
     "output_type": "execute_result"
    }
   ],
   "source": [
    "pred_xgb = model_xgb.predict(dtest)\n",
    "pred_xgb = np.exp(pred_xgb)\n",
    "print('Test shape OK.') if test.shape[0] == pred_xgb.shape[0] else print('Oops')\n",
    "pred_xgb"
   ]
  },
  {
   "cell_type": "code",
   "execution_count": 35,
   "metadata": {
    "collapsed": true
   },
   "outputs": [],
   "source": [
    "submission = pd.concat([test['id'], pd.DataFrame(pred_xgb, columns=['trip_duration'])], axis=1)\n",
    "submission.to_csv('submission-xgb.csv',index=False)"
   ]
  }
 ],
 "metadata": {
  "kernelspec": {
   "display_name": "Python 3",
   "language": "python",
   "name": "python3"
  },
  "language_info": {
   "codemirror_mode": {
    "name": "ipython",
    "version": 3
   },
   "file_extension": ".py",
   "mimetype": "text/x-python",
   "name": "python",
   "nbconvert_exporter": "python",
   "pygments_lexer": "ipython3",
   "version": "3.5.3"
  }
 },
 "nbformat": 4,
 "nbformat_minor": 2
}
